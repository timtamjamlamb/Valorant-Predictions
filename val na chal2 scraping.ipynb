{
 "cells": [
  {
   "cell_type": "code",
   "execution_count": 1,
   "metadata": {},
   "outputs": [],
   "source": [
    "import requests"
   ]
  },
  {
   "cell_type": "code",
   "execution_count": 2,
   "metadata": {},
   "outputs": [],
   "source": [
    "standings_url = \"https://liquipedia.net/valorant/VCT/2022/North_America/Stage_2/Challengers/Group_Stage\""
   ]
  },
  {
   "cell_type": "code",
   "execution_count": 3,
   "metadata": {},
   "outputs": [],
   "source": [
    "data = requests.get(standings_url)"
   ]
  },
  {
   "cell_type": "code",
   "execution_count": 4,
   "metadata": {},
   "outputs": [],
   "source": [
    "from bs4 import BeautifulSoup"
   ]
  },
  {
   "cell_type": "code",
   "execution_count": 5,
   "metadata": {
    "scrolled": false
   },
   "outputs": [
    {
     "data": {
      "text/plain": [
       "['/valorant/100_Thieves',\n",
       " '/valorant/Cloud9',\n",
       " '/valorant/Evil_Geniuses',\n",
       " '/valorant/FaZe_Clan',\n",
       " '/valorant/Ghost_Gaming',\n",
       " '/valorant/Luminosity_Gaming',\n",
       " '/valorant/NRG',\n",
       " '/valorant/OpTic_Gaming',\n",
       " '/valorant/Sentinels',\n",
       " '/valorant/TSM',\n",
       " '/valorant/The_Guard',\n",
       " '/valorant/XSET']"
      ]
     },
     "execution_count": 5,
     "metadata": {},
     "output_type": "execute_result"
    }
   ],
   "source": [
    "soup = BeautifulSoup(data.text)\n",
    "standings_table = soup.select('table.grouptable')[:2]\n",
    "teams = []\n",
    "for group in standings_table:\n",
    "    links = group.find_all('a')\n",
    "    links = [l.get(\"href\") for l in links]\n",
    "    for team in links:\n",
    "        teams.append(team)\n",
    "        \n",
    "teams = sorted(list(set(teams)))\n",
    "teams"
   ]
  },
  {
   "cell_type": "code",
   "execution_count": 6,
   "metadata": {},
   "outputs": [
    {
     "data": {
      "text/plain": [
       "['',\n",
       " 'LG',\n",
       " 'OPTC',\n",
       " 'EG',\n",
       " 'NRG',\n",
       " 'Sideshow',\n",
       " 'Haven',\n",
       " 'Bren',\n",
       " 'GHST',\n",
       " 'Icebox',\n",
       " 'Breeze',\n",
       " 'IHOLDSHIFT',\n",
       " 'EsportsDoug',\n",
       " 'Bind',\n",
       " 'TSM',\n",
       " 'Fracture',\n",
       " '100T',\n",
       " 'XSET',\n",
       " 'TGRD',\n",
       " 'FaZe',\n",
       " 'dusT',\n",
       " 'SEN',\n",
       " 'Split',\n",
       " 'C9',\n",
       " 'Ballatw',\n",
       " 'Ascent']"
      ]
     },
     "execution_count": 6,
     "metadata": {},
     "output_type": "execute_result"
    }
   ],
   "source": [
    "soup = BeautifulSoup(data.text)\n",
    "standings_table = soup.select('table.collapsible')[0]\n",
    "short = standings_table.find_all('a')\n",
    "short = [l.text for l in short]\n",
    "shortteams = []\n",
    "for team in short:\n",
    "    shortteams.append(team)\n",
    "shortteams = list(set(shortteams))\n",
    "shortteams"
   ]
  },
  {
   "cell_type": "code",
   "execution_count": 7,
   "metadata": {},
   "outputs": [
    {
     "data": {
      "text/plain": [
       "['100T',\n",
       " 'C9',\n",
       " 'EG',\n",
       " 'FaZe',\n",
       " 'Ghost',\n",
       " 'LG',\n",
       " 'NRG',\n",
       " 'OPTC',\n",
       " 'SEN',\n",
       " 'TGRD',\n",
       " 'TSM',\n",
       " 'XSET']"
      ]
     },
     "execution_count": 7,
     "metadata": {},
     "output_type": "execute_result"
    }
   ],
   "source": [
    "shorthand = ['TSM','XSET','LG','SEN','100T','NRG','TGRD','OPTC','EG','C9','Ghost','FaZe']\n",
    "shorthand = sorted(shorthand)\n",
    "shorthand"
   ]
  },
  {
   "cell_type": "code",
   "execution_count": 8,
   "metadata": {},
   "outputs": [
    {
     "data": {
      "text/plain": [
       "['100T',\n",
       " 'C9',\n",
       " 'EG',\n",
       " 'FaZe',\n",
       " 'Ghost',\n",
       " 'LG',\n",
       " 'NRG',\n",
       " 'OPTC',\n",
       " 'SEN',\n",
       " 'TSM',\n",
       " 'TGRD',\n",
       " 'XSET']"
      ]
     },
     "execution_count": 8,
     "metadata": {},
     "output_type": "execute_result"
    }
   ],
   "source": [
    "i = shorthand.index(\"TGRD\")\n",
    "j = shorthand.index(\"TSM\")\n",
    "shorthand[i], shorthand[j] = shorthand[j], shorthand[i]\n",
    "shorthand"
   ]
  },
  {
   "cell_type": "markdown",
   "metadata": {},
   "source": [
    "rng read everytime?\n",
    "['/valorant/100_Thieves',\n",
    " '/valorant/Cloud9',\n",
    " '/valorant/Evil_Geniuses',\n",
    " '/valorant/FaZe_Clan',\n",
    " '/valorant/Ghost_Gaming',\n",
    " '/valorant/Luminosity_Gaming',\n",
    " '/valorant/NRG',\n",
    " '/valorant/OpTic_Gaming',\n",
    " '/valorant/Sentinels',\n",
    " '/valorant/TSM',\n",
    " '/valorant/The_Guard',\n",
    " '/valorant/XSET']"
   ]
  },
  {
   "cell_type": "code",
   "execution_count": 9,
   "metadata": {},
   "outputs": [
    {
     "data": {
      "text/plain": [
       "(12, 12)"
      ]
     },
     "execution_count": 9,
     "metadata": {},
     "output_type": "execute_result"
    }
   ],
   "source": [
    "len(shorthand),len(teams)"
   ]
  },
  {
   "cell_type": "code",
   "execution_count": 10,
   "metadata": {},
   "outputs": [
    {
     "data": {
      "text/plain": [
       "['https://liquipedia.net/valorant/100_Thieves/Matches',\n",
       " 'https://liquipedia.net/valorant/Cloud9/Matches',\n",
       " 'https://liquipedia.net/valorant/Evil_Geniuses/Matches',\n",
       " 'https://liquipedia.net/valorant/FaZe_Clan/Matches',\n",
       " 'https://liquipedia.net/valorant/Ghost_Gaming/Matches',\n",
       " 'https://liquipedia.net/valorant/Luminosity_Gaming/Matches',\n",
       " 'https://liquipedia.net/valorant/NRG/Matches',\n",
       " 'https://liquipedia.net/valorant/OpTic_Gaming/Matches',\n",
       " 'https://liquipedia.net/valorant/Sentinels/Matches',\n",
       " 'https://liquipedia.net/valorant/TSM/Matches',\n",
       " 'https://liquipedia.net/valorant/The_Guard/Matches',\n",
       " 'https://liquipedia.net/valorant/XSET/Matches']"
      ]
     },
     "execution_count": 10,
     "metadata": {},
     "output_type": "execute_result"
    }
   ],
   "source": [
    "team_urls = [f\"https://liquipedia.net{l}/Matches\" for l in teams]\n",
    "team_urls"
   ]
  },
  {
   "cell_type": "code",
   "execution_count": 11,
   "metadata": {},
   "outputs": [],
   "source": [
    "data = requests.get(team_urls[0])"
   ]
  },
  {
   "cell_type": "code",
   "execution_count": 12,
   "metadata": {},
   "outputs": [
    {
     "data": {
      "text/plain": [
       "'100_Thieves'"
      ]
     },
     "execution_count": 12,
     "metadata": {},
     "output_type": "execute_result"
    }
   ],
   "source": [
    "team_name = team_urls[0].split(\"/\")[-2]\n",
    "team_name"
   ]
  },
  {
   "cell_type": "code",
   "execution_count": 13,
   "metadata": {
    "scrolled": true
   },
   "outputs": [
    {
     "data": {
      "text/html": [
       "<div>\n",
       "<style scoped>\n",
       "    .dataframe tbody tr th:only-of-type {\n",
       "        vertical-align: middle;\n",
       "    }\n",
       "\n",
       "    .dataframe tbody tr th {\n",
       "        vertical-align: top;\n",
       "    }\n",
       "\n",
       "    .dataframe thead th {\n",
       "        text-align: right;\n",
       "    }\n",
       "</style>\n",
       "<table border=\"1\" class=\"dataframe\">\n",
       "  <thead>\n",
       "    <tr style=\"text-align: right;\">\n",
       "      <th></th>\n",
       "      <th>Date</th>\n",
       "      <th>Time</th>\n",
       "      <th>Tier</th>\n",
       "      <th>Type</th>\n",
       "      <th>Tournament</th>\n",
       "      <th>Score</th>\n",
       "      <th>Team</th>\n",
       "      <th>Opponent</th>\n",
       "    </tr>\n",
       "  </thead>\n",
       "  <tbody>\n",
       "    <tr>\n",
       "      <th>0</th>\n",
       "      <td>2022-06-05</td>\n",
       "      <td>20:00 UTC</td>\n",
       "      <td>A-Tier</td>\n",
       "      <td>Online</td>\n",
       "      <td>VCT 2022: North America Challengers 2 - Group ...</td>\n",
       "      <td>2 : 0</td>\n",
       "      <td>100T</td>\n",
       "      <td>NRG</td>\n",
       "    </tr>\n",
       "    <tr>\n",
       "      <th>1</th>\n",
       "      <td>2022-05-28</td>\n",
       "      <td>18:15 EDT</td>\n",
       "      <td>A-Tier</td>\n",
       "      <td>Online</td>\n",
       "      <td>VCT 2022: North America Challengers 2 - Group ...</td>\n",
       "      <td>2 : 0</td>\n",
       "      <td>100T</td>\n",
       "      <td>XSET</td>\n",
       "    </tr>\n",
       "    <tr>\n",
       "      <th>2</th>\n",
       "      <td>2022-05-21</td>\n",
       "      <td>16:15 EDT</td>\n",
       "      <td>A-Tier</td>\n",
       "      <td>Online</td>\n",
       "      <td>VCT 2022: North America Challengers 2 - Group ...</td>\n",
       "      <td>0 : 2</td>\n",
       "      <td>100T</td>\n",
       "      <td>TSM</td>\n",
       "    </tr>\n",
       "    <tr>\n",
       "      <th>3</th>\n",
       "      <td>2022-05-13</td>\n",
       "      <td>16:20 EDT</td>\n",
       "      <td>A-Tier</td>\n",
       "      <td>Online</td>\n",
       "      <td>VCT 2022: North America Challengers 2 - Group ...</td>\n",
       "      <td>2 : 0</td>\n",
       "      <td>100T</td>\n",
       "      <td>TGRD</td>\n",
       "    </tr>\n",
       "    <tr>\n",
       "      <th>4</th>\n",
       "      <td>2022-05-07</td>\n",
       "      <td>17:45 EDT</td>\n",
       "      <td>A-Tier (Qual.)</td>\n",
       "      <td>Online</td>\n",
       "      <td>VCT 2022: NA Stage 2 Challengers - Open Qualif...</td>\n",
       "      <td>2 : 0</td>\n",
       "      <td>100T</td>\n",
       "      <td>AKRW</td>\n",
       "    </tr>\n",
       "  </tbody>\n",
       "</table>\n",
       "</div>"
      ],
      "text/plain": [
       "         Date       Time            Tier    Type  \\\n",
       "0  2022-06-05  20:00 UTC          A-Tier  Online   \n",
       "1  2022-05-28  18:15 EDT          A-Tier  Online   \n",
       "2  2022-05-21  16:15 EDT          A-Tier  Online   \n",
       "3  2022-05-13  16:20 EDT          A-Tier  Online   \n",
       "4  2022-05-07  17:45 EDT  A-Tier (Qual.)  Online   \n",
       "\n",
       "                                          Tournament  Score  Team Opponent  \n",
       "0  VCT 2022: North America Challengers 2 - Group ...  2 : 0  100T      NRG  \n",
       "1  VCT 2022: North America Challengers 2 - Group ...  2 : 0  100T     XSET  \n",
       "2  VCT 2022: North America Challengers 2 - Group ...  0 : 2  100T      TSM  \n",
       "3  VCT 2022: North America Challengers 2 - Group ...  2 : 0  100T     TGRD  \n",
       "4  VCT 2022: NA Stage 2 Challengers - Open Qualif...  2 : 0  100T     AKRW  "
      ]
     },
     "execution_count": 13,
     "metadata": {},
     "output_type": "execute_result"
    }
   ],
   "source": [
    "import pandas as pd\n",
    "matches = pd.read_html(data.text)[0]\n",
    "matches = matches.drop(columns=['Tournament', 'VOD'])\n",
    "matches = matches.rename(columns={\"Tournament.1\": \"Tournament\", \"vs. Team\": \"Opponent\"})\n",
    "matches.insert(6, \"Team\", shorthand[0])\n",
    "matches.head()"
   ]
  },
  {
   "cell_type": "code",
   "execution_count": 14,
   "metadata": {},
   "outputs": [],
   "source": [
    "all_matches = []"
   ]
  },
  {
   "cell_type": "code",
   "execution_count": 15,
   "metadata": {
    "scrolled": true
   },
   "outputs": [],
   "source": [
    "for team_url in team_urls:\n",
    "    team_name = team_url.split(\"/\")[-2].replace(\"_\", \" \")\n",
    "    data = requests.get(team_url)\n",
    "    matches = pd.read_html(data.text)[0]\n",
    "    matches = matches.drop(columns=['Tournament', 'VOD'])\n",
    "    matches = matches.rename(columns={\"Tournament.1\": \"Tournament\", \"vs. Team\": \"Opponent\"})\n",
    "    matches[\"Team\"] = team_name\n",
    "    all_matches.append(matches)"
   ]
  },
  {
   "cell_type": "code",
   "execution_count": 16,
   "metadata": {},
   "outputs": [
    {
     "data": {
      "text/plain": [
       "12"
      ]
     },
     "execution_count": 16,
     "metadata": {},
     "output_type": "execute_result"
    }
   ],
   "source": [
    "len(all_matches)"
   ]
  },
  {
   "cell_type": "code",
   "execution_count": 17,
   "metadata": {},
   "outputs": [],
   "source": [
    "match_df = pd.concat(all_matches)"
   ]
  },
  {
   "cell_type": "code",
   "execution_count": 18,
   "metadata": {},
   "outputs": [],
   "source": [
    "match_df.columns = [c.lower() for c in match_df.columns]"
   ]
  },
  {
   "cell_type": "code",
   "execution_count": 19,
   "metadata": {
    "scrolled": true
   },
   "outputs": [
    {
     "data": {
      "text/html": [
       "<div>\n",
       "<style scoped>\n",
       "    .dataframe tbody tr th:only-of-type {\n",
       "        vertical-align: middle;\n",
       "    }\n",
       "\n",
       "    .dataframe tbody tr th {\n",
       "        vertical-align: top;\n",
       "    }\n",
       "\n",
       "    .dataframe thead th {\n",
       "        text-align: right;\n",
       "    }\n",
       "</style>\n",
       "<table border=\"1\" class=\"dataframe\">\n",
       "  <thead>\n",
       "    <tr style=\"text-align: right;\">\n",
       "      <th></th>\n",
       "      <th>date</th>\n",
       "      <th>time</th>\n",
       "      <th>tier</th>\n",
       "      <th>type</th>\n",
       "      <th>tournament</th>\n",
       "      <th>score</th>\n",
       "      <th>opponent</th>\n",
       "      <th>team</th>\n",
       "    </tr>\n",
       "  </thead>\n",
       "  <tbody>\n",
       "    <tr>\n",
       "      <th>0</th>\n",
       "      <td>2022-06-05</td>\n",
       "      <td>20:00 UTC</td>\n",
       "      <td>A-Tier</td>\n",
       "      <td>Online</td>\n",
       "      <td>VCT 2022: North America Challengers 2 - Group ...</td>\n",
       "      <td>2 : 0</td>\n",
       "      <td>NRG</td>\n",
       "      <td>100 Thieves</td>\n",
       "    </tr>\n",
       "    <tr>\n",
       "      <th>1</th>\n",
       "      <td>2022-05-28</td>\n",
       "      <td>18:15 EDT</td>\n",
       "      <td>A-Tier</td>\n",
       "      <td>Online</td>\n",
       "      <td>VCT 2022: North America Challengers 2 - Group ...</td>\n",
       "      <td>2 : 0</td>\n",
       "      <td>XSET</td>\n",
       "      <td>100 Thieves</td>\n",
       "    </tr>\n",
       "    <tr>\n",
       "      <th>2</th>\n",
       "      <td>2022-05-21</td>\n",
       "      <td>16:15 EDT</td>\n",
       "      <td>A-Tier</td>\n",
       "      <td>Online</td>\n",
       "      <td>VCT 2022: North America Challengers 2 - Group ...</td>\n",
       "      <td>0 : 2</td>\n",
       "      <td>TSM</td>\n",
       "      <td>100 Thieves</td>\n",
       "    </tr>\n",
       "    <tr>\n",
       "      <th>3</th>\n",
       "      <td>2022-05-13</td>\n",
       "      <td>16:20 EDT</td>\n",
       "      <td>A-Tier</td>\n",
       "      <td>Online</td>\n",
       "      <td>VCT 2022: North America Challengers 2 - Group ...</td>\n",
       "      <td>2 : 0</td>\n",
       "      <td>TGRD</td>\n",
       "      <td>100 Thieves</td>\n",
       "    </tr>\n",
       "    <tr>\n",
       "      <th>4</th>\n",
       "      <td>2022-05-07</td>\n",
       "      <td>17:45 EDT</td>\n",
       "      <td>A-Tier (Qual.)</td>\n",
       "      <td>Online</td>\n",
       "      <td>VCT 2022: NA Stage 2 Challengers - Open Qualif...</td>\n",
       "      <td>2 : 0</td>\n",
       "      <td>AKRW</td>\n",
       "      <td>100 Thieves</td>\n",
       "    </tr>\n",
       "  </tbody>\n",
       "</table>\n",
       "</div>"
      ],
      "text/plain": [
       "         date       time            tier    type  \\\n",
       "0  2022-06-05  20:00 UTC          A-Tier  Online   \n",
       "1  2022-05-28  18:15 EDT          A-Tier  Online   \n",
       "2  2022-05-21  16:15 EDT          A-Tier  Online   \n",
       "3  2022-05-13  16:20 EDT          A-Tier  Online   \n",
       "4  2022-05-07  17:45 EDT  A-Tier (Qual.)  Online   \n",
       "\n",
       "                                          tournament  score opponent  \\\n",
       "0  VCT 2022: North America Challengers 2 - Group ...  2 : 0      NRG   \n",
       "1  VCT 2022: North America Challengers 2 - Group ...  2 : 0     XSET   \n",
       "2  VCT 2022: North America Challengers 2 - Group ...  0 : 2      TSM   \n",
       "3  VCT 2022: North America Challengers 2 - Group ...  2 : 0     TGRD   \n",
       "4  VCT 2022: NA Stage 2 Challengers - Open Qualif...  2 : 0     AKRW   \n",
       "\n",
       "          team  \n",
       "0  100 Thieves  \n",
       "1  100 Thieves  \n",
       "2  100 Thieves  \n",
       "3  100 Thieves  \n",
       "4  100 Thieves  "
      ]
     },
     "execution_count": 19,
     "metadata": {},
     "output_type": "execute_result"
    }
   ],
   "source": [
    "match_df.head()"
   ]
  },
  {
   "cell_type": "code",
   "execution_count": 20,
   "metadata": {},
   "outputs": [
    {
     "data": {
      "text/html": [
       "<div>\n",
       "<style scoped>\n",
       "    .dataframe tbody tr th:only-of-type {\n",
       "        vertical-align: middle;\n",
       "    }\n",
       "\n",
       "    .dataframe tbody tr th {\n",
       "        vertical-align: top;\n",
       "    }\n",
       "\n",
       "    .dataframe thead th {\n",
       "        text-align: right;\n",
       "    }\n",
       "</style>\n",
       "<table border=\"1\" class=\"dataframe\">\n",
       "  <thead>\n",
       "    <tr style=\"text-align: right;\">\n",
       "      <th></th>\n",
       "      <th>date</th>\n",
       "      <th>time</th>\n",
       "      <th>tier</th>\n",
       "      <th>type</th>\n",
       "      <th>tournament</th>\n",
       "      <th>score</th>\n",
       "      <th>opponent</th>\n",
       "      <th>team</th>\n",
       "    </tr>\n",
       "  </thead>\n",
       "  <tbody>\n",
       "    <tr>\n",
       "      <th>84</th>\n",
       "      <td>2020-11-11</td>\n",
       "      <td>16:00 PST</td>\n",
       "      <td>A-Tier (Qual.)</td>\n",
       "      <td>Online</td>\n",
       "      <td>UMG Tournament - Qualifier #1</td>\n",
       "      <td>0 : 2</td>\n",
       "      <td>FS</td>\n",
       "      <td>XSET</td>\n",
       "    </tr>\n",
       "    <tr>\n",
       "      <th>85</th>\n",
       "      <td>2020-11-04</td>\n",
       "      <td>20:15 EST</td>\n",
       "      <td>A-Tier</td>\n",
       "      <td>Online</td>\n",
       "      <td>First Strike North America - NSG Tournament</td>\n",
       "      <td>1 : 2</td>\n",
       "      <td>LG</td>\n",
       "      <td>XSET</td>\n",
       "    </tr>\n",
       "    <tr>\n",
       "      <th>86</th>\n",
       "      <td>2020-11-04</td>\n",
       "      <td>15:00 EST</td>\n",
       "      <td>A-Tier</td>\n",
       "      <td>Online</td>\n",
       "      <td>First Strike North America - NSG Tournament</td>\n",
       "      <td>0 : 2</td>\n",
       "      <td>C9 B</td>\n",
       "      <td>XSET</td>\n",
       "    </tr>\n",
       "    <tr>\n",
       "      <th>87</th>\n",
       "      <td>2020-10-27</td>\n",
       "      <td>17:00 PDT</td>\n",
       "      <td>A-Tier (Qual.)</td>\n",
       "      <td>Online</td>\n",
       "      <td>NSG Tournament - Qualifier</td>\n",
       "      <td>0 : 2</td>\n",
       "      <td>Gen.G</td>\n",
       "      <td>XSET</td>\n",
       "    </tr>\n",
       "    <tr>\n",
       "      <th>88</th>\n",
       "      <td>2020-10-27</td>\n",
       "      <td>14:00 PDT</td>\n",
       "      <td>A-Tier (Qual.)</td>\n",
       "      <td>Online</td>\n",
       "      <td>NSG Tournament - Qualifier</td>\n",
       "      <td>2 : 1</td>\n",
       "      <td>IMT</td>\n",
       "      <td>XSET</td>\n",
       "    </tr>\n",
       "  </tbody>\n",
       "</table>\n",
       "</div>"
      ],
      "text/plain": [
       "          date       time            tier    type  \\\n",
       "84  2020-11-11  16:00 PST  A-Tier (Qual.)  Online   \n",
       "85  2020-11-04  20:15 EST          A-Tier  Online   \n",
       "86  2020-11-04  15:00 EST          A-Tier  Online   \n",
       "87  2020-10-27  17:00 PDT  A-Tier (Qual.)  Online   \n",
       "88  2020-10-27  14:00 PDT  A-Tier (Qual.)  Online   \n",
       "\n",
       "                                     tournament  score opponent  team  \n",
       "84                UMG Tournament - Qualifier #1  0 : 2       FS  XSET  \n",
       "85  First Strike North America - NSG Tournament  1 : 2       LG  XSET  \n",
       "86  First Strike North America - NSG Tournament  0 : 2     C9 B  XSET  \n",
       "87                   NSG Tournament - Qualifier  0 : 2    Gen.G  XSET  \n",
       "88                   NSG Tournament - Qualifier  2 : 1      IMT  XSET  "
      ]
     },
     "execution_count": 20,
     "metadata": {},
     "output_type": "execute_result"
    }
   ],
   "source": [
    "match_df.tail()"
   ]
  },
  {
   "cell_type": "code",
   "execution_count": 21,
   "metadata": {},
   "outputs": [
    {
     "data": {
      "text/html": [
       "<div>\n",
       "<style scoped>\n",
       "    .dataframe tbody tr th:only-of-type {\n",
       "        vertical-align: middle;\n",
       "    }\n",
       "\n",
       "    .dataframe tbody tr th {\n",
       "        vertical-align: top;\n",
       "    }\n",
       "\n",
       "    .dataframe thead th {\n",
       "        text-align: right;\n",
       "    }\n",
       "</style>\n",
       "<table border=\"1\" class=\"dataframe\">\n",
       "  <thead>\n",
       "    <tr style=\"text-align: right;\">\n",
       "      <th></th>\n",
       "      <th>date</th>\n",
       "      <th>time</th>\n",
       "      <th>tier</th>\n",
       "      <th>type</th>\n",
       "      <th>tournament</th>\n",
       "      <th>score</th>\n",
       "      <th>opponent</th>\n",
       "      <th>team</th>\n",
       "      <th>GF</th>\n",
       "      <th>GA</th>\n",
       "    </tr>\n",
       "  </thead>\n",
       "  <tbody>\n",
       "    <tr>\n",
       "      <th>0</th>\n",
       "      <td>2022-06-05</td>\n",
       "      <td>20:00 UTC</td>\n",
       "      <td>A-Tier</td>\n",
       "      <td>Online</td>\n",
       "      <td>VCT 2022: North America Challengers 2 - Group ...</td>\n",
       "      <td>2 : 0</td>\n",
       "      <td>NRG</td>\n",
       "      <td>100 Thieves</td>\n",
       "      <td>2</td>\n",
       "      <td>0</td>\n",
       "    </tr>\n",
       "    <tr>\n",
       "      <th>1</th>\n",
       "      <td>2022-05-28</td>\n",
       "      <td>18:15 EDT</td>\n",
       "      <td>A-Tier</td>\n",
       "      <td>Online</td>\n",
       "      <td>VCT 2022: North America Challengers 2 - Group ...</td>\n",
       "      <td>2 : 0</td>\n",
       "      <td>XSET</td>\n",
       "      <td>100 Thieves</td>\n",
       "      <td>2</td>\n",
       "      <td>0</td>\n",
       "    </tr>\n",
       "    <tr>\n",
       "      <th>2</th>\n",
       "      <td>2022-05-21</td>\n",
       "      <td>16:15 EDT</td>\n",
       "      <td>A-Tier</td>\n",
       "      <td>Online</td>\n",
       "      <td>VCT 2022: North America Challengers 2 - Group ...</td>\n",
       "      <td>0 : 2</td>\n",
       "      <td>TSM</td>\n",
       "      <td>100 Thieves</td>\n",
       "      <td>0</td>\n",
       "      <td>2</td>\n",
       "    </tr>\n",
       "    <tr>\n",
       "      <th>3</th>\n",
       "      <td>2022-05-13</td>\n",
       "      <td>16:20 EDT</td>\n",
       "      <td>A-Tier</td>\n",
       "      <td>Online</td>\n",
       "      <td>VCT 2022: North America Challengers 2 - Group ...</td>\n",
       "      <td>2 : 0</td>\n",
       "      <td>TGRD</td>\n",
       "      <td>100 Thieves</td>\n",
       "      <td>2</td>\n",
       "      <td>0</td>\n",
       "    </tr>\n",
       "    <tr>\n",
       "      <th>4</th>\n",
       "      <td>2022-05-07</td>\n",
       "      <td>17:45 EDT</td>\n",
       "      <td>A-Tier (Qual.)</td>\n",
       "      <td>Online</td>\n",
       "      <td>VCT 2022: NA Stage 2 Challengers - Open Qualif...</td>\n",
       "      <td>2 : 0</td>\n",
       "      <td>AKRW</td>\n",
       "      <td>100 Thieves</td>\n",
       "      <td>2</td>\n",
       "      <td>0</td>\n",
       "    </tr>\n",
       "  </tbody>\n",
       "</table>\n",
       "</div>"
      ],
      "text/plain": [
       "         date       time            tier    type  \\\n",
       "0  2022-06-05  20:00 UTC          A-Tier  Online   \n",
       "1  2022-05-28  18:15 EDT          A-Tier  Online   \n",
       "2  2022-05-21  16:15 EDT          A-Tier  Online   \n",
       "3  2022-05-13  16:20 EDT          A-Tier  Online   \n",
       "4  2022-05-07  17:45 EDT  A-Tier (Qual.)  Online   \n",
       "\n",
       "                                          tournament  score opponent  \\\n",
       "0  VCT 2022: North America Challengers 2 - Group ...  2 : 0      NRG   \n",
       "1  VCT 2022: North America Challengers 2 - Group ...  2 : 0     XSET   \n",
       "2  VCT 2022: North America Challengers 2 - Group ...  0 : 2      TSM   \n",
       "3  VCT 2022: North America Challengers 2 - Group ...  2 : 0     TGRD   \n",
       "4  VCT 2022: NA Stage 2 Challengers - Open Qualif...  2 : 0     AKRW   \n",
       "\n",
       "          team  GF  GA  \n",
       "0  100 Thieves  2    0  \n",
       "1  100 Thieves  2    0  \n",
       "2  100 Thieves  0    2  \n",
       "3  100 Thieves  2    0  \n",
       "4  100 Thieves  2    0  "
      ]
     },
     "execution_count": 21,
     "metadata": {},
     "output_type": "execute_result"
    }
   ],
   "source": [
    "match_df['score'] = match_df['score'].str.replace('-',' : ')\n",
    "new = match_df[\"score\"].str.split(\":\", expand = True)\n",
    "match_df[\"GF\"] = new[0]\n",
    "match_df[\"GA\"] = new[1]\n",
    "match_df.head()"
   ]
  },
  {
   "cell_type": "code",
   "execution_count": 22,
   "metadata": {},
   "outputs": [],
   "source": [
    "match_df[\"team\"] = match_df[\"team\"].astype(str)"
   ]
  },
  {
   "cell_type": "code",
   "execution_count": 23,
   "metadata": {},
   "outputs": [],
   "source": [
    "match_df[\"opponent\"] = match_df[\"opponent\"].astype(str)"
   ]
  },
  {
   "cell_type": "code",
   "execution_count": 24,
   "metadata": {},
   "outputs": [
    {
     "data": {
      "text/plain": [
       "date          object\n",
       "time          object\n",
       "tier          object\n",
       "type          object\n",
       "tournament    object\n",
       "score         object\n",
       "opponent      object\n",
       "team          object\n",
       "GF            object\n",
       "GA            object\n",
       "dtype: object"
      ]
     },
     "execution_count": 24,
     "metadata": {},
     "output_type": "execute_result"
    }
   ],
   "source": [
    "match_df.dtypes"
   ]
  },
  {
   "cell_type": "code",
   "execution_count": 25,
   "metadata": {},
   "outputs": [],
   "source": [
    "match_df.to_csv(\"valNA2022stage2matches.csv\")"
   ]
  }
 ],
 "metadata": {
  "kernelspec": {
   "display_name": "Python 3 (ipykernel)",
   "language": "python",
   "name": "python3"
  },
  "language_info": {
   "codemirror_mode": {
    "name": "ipython",
    "version": 3
   },
   "file_extension": ".py",
   "mimetype": "text/x-python",
   "name": "python",
   "nbconvert_exporter": "python",
   "pygments_lexer": "ipython3",
   "version": "3.8.13"
  }
 },
 "nbformat": 4,
 "nbformat_minor": 4
}
